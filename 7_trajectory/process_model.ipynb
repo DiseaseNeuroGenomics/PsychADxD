{
 "cells": [
  {
   "cell_type": "code",
   "execution_count": 22,
   "metadata": {},
   "outputs": [
    {
     "data": {
      "text/plain": [
       "<module 'process_data' from '/home/masse/work/PsychADxD/7_trajectory/process_data.py'>"
      ]
     },
     "execution_count": 22,
     "metadata": {},
     "output_type": "execute_result"
    }
   ],
   "source": [
    "import os\n",
    "import pickle\n",
    "import scanpy as sc\n",
    "import numpy as np\n",
    "import process_data\n",
    "import scipy.stats as stats\n",
    "\n",
    "import warnings\n",
    "warnings.filterwarnings(\"ignore\")\n",
    "\n",
    "import importlib\n",
    "importlib.reload(process_data)"
   ]
  },
  {
   "cell_type": "markdown",
   "metadata": {},
   "source": [
    "## Coverting PyTorch Lightning model outputs to an h5ad\n",
    "This required for all downstream analysis.  \n",
    "process_data will add donor-related information (e.g. average predicted Braak, average gene expression) to the h5ad.  \n",
    "This worksheet shows an example of how to perform this conversion.  "
   ]
  },
  {
   "cell_type": "code",
   "execution_count": 5,
   "metadata": {},
   "outputs": [],
   "source": [
    "# Helper function to measure model accuracy\n",
    "\n",
    "def explained_var(x_pred, x_real):\n",
    "    \n",
    "    idx = ~np.isnan(x_real) * (x_real > -1)\n",
    "    x = x_real[idx]\n",
    "    y = x_pred[idx]\n",
    "    ex_var = 1 - np.nanvar(x - y) / np.nanvar(x)\n",
    "    r, p = stats.pearsonr(x, y)\n",
    "    return ex_var, r, p\n",
    "\n",
    "def classification_score(x_pred, x_real):\n",
    "    \n",
    "    idx = ~np.isnan(x_real) * (x_real > -1)\n",
    "    s0 = np.sum((x_real[idx] == 0) * (x_pred[idx] < 0.5)) / np.sum(x_real[idx] == 0)\n",
    "    s1 = np.sum((x_real[idx] > 0.99) * (x_pred[idx] >= 0.5)) / np.sum(x_real[idx] > 0.99)\n",
    "    return (s0 + s1) / 2"
   ]
  },
  {
   "cell_type": "code",
   "execution_count": null,
   "metadata": {},
   "outputs": [],
   "source": [
    "# When save data is True, model results will be saved as an h5ad after running create_data below\n",
    "# Can be set to False to first measure model accuracy across different epochs\n",
    "save_data = False"
   ]
  },
  {
   "cell_type": "code",
   "execution_count": null,
   "metadata": {},
   "outputs": [],
   "source": [
    "# Data and metadata are created by create_dataset.py\n",
    "# Must fill in these file names!!!\n",
    "data_fn = \"XXXX\"\n",
    "meta_fn = \"XXXX\""
   ]
  },
  {
   "cell_type": "code",
   "execution_count": 4,
   "metadata": {},
   "outputs": [],
   "source": [
    "mr = process_data.ModelResults(\n",
    "    data_fn = data_fn,\n",
    "    meta_fn = meta_fn,\n",
    "    obs_list = [\"pred_BRAAK_AD\", \"pred_Dementia\",],  \n",
    "    include_analysis_only = True, # only include donors with no comorbidities, used for paper\n",
    "    normalize_gene_counts = True,\n",
    "    log_gene_counts = True,\n",
    ")"
   ]
  },
  {
   "cell_type": "code",
   "execution_count": 24,
   "metadata": {},
   "outputs": [
    {
     "name": "stdout",
     "output_type": "stream",
     "text": [
      "Subclasses present: ['PVM' 'Micro' 'Adaptive']\n",
      "Epoch: 0, dementia acc: 0.6205, braak corr: 0.4601, braak-dementia corr: 0.7603\n",
      "Subclasses present: ['PVM' 'Micro' 'Adaptive']\n",
      "Epoch: 1, dementia acc: 0.6405, braak corr: 0.5089, braak-dementia corr: 0.8459\n",
      "Subclasses present: ['PVM' 'Micro' 'Adaptive']\n",
      "Epoch: 2, dementia acc: 0.6607, braak corr: 0.5135, braak-dementia corr: 0.6809\n",
      "Subclasses present: ['PVM' 'Micro' 'Adaptive']\n",
      "Epoch: 3, dementia acc: 0.6451, braak corr: 0.5199, braak-dementia corr: 0.5999\n",
      "Subclasses present: ['PVM' 'Micro' 'Adaptive']\n",
      "Epoch: 4, dementia acc: 0.6341, braak corr: 0.5200, braak-dementia corr: 0.5693\n",
      "Subclasses present: ['PVM' 'Micro' 'Adaptive']\n",
      "Epoch: 5, dementia acc: 0.6275, braak corr: 0.5250, braak-dementia corr: 0.5629\n",
      "Subclasses present: ['PVM' 'Micro' 'Adaptive']\n",
      "Epoch: 6, dementia acc: 0.6475, braak corr: 0.5244, braak-dementia corr: 0.5410\n",
      "Subclasses present: ['PVM' 'Micro' 'Adaptive']\n",
      "Epoch: 7, dementia acc: 0.6545, braak corr: 0.5210, braak-dementia corr: 0.5475\n",
      "Subclasses present: ['PVM' 'Micro' 'Adaptive']\n",
      "Epoch: 8, dementia acc: 0.6200, braak corr: 0.5267, braak-dementia corr: 0.5482\n",
      "Subclasses present: ['PVM' 'Micro' 'Adaptive']\n",
      "Epoch: 9, dementia acc: 0.6368, braak corr: 0.5251, braak-dementia corr: 0.5517\n",
      "Subclasses present: ['PVM' 'Micro' 'Adaptive']\n",
      "Epoch: 10, dementia acc: 0.6357, braak corr: 0.5295, braak-dementia corr: 0.5180\n",
      "Subclasses present: ['PVM' 'Micro' 'Adaptive']\n",
      "Epoch: 11, dementia acc: 0.6257, braak corr: 0.5327, braak-dementia corr: 0.5942\n",
      "Subclasses present: ['PVM' 'Micro' 'Adaptive']\n",
      "Epoch: 12, dementia acc: 0.6235, braak corr: 0.5389, braak-dementia corr: 0.5754\n",
      "Subclasses present: ['PVM' 'Micro' 'Adaptive']\n",
      "Epoch: 13, dementia acc: 0.6083, braak corr: 0.5374, braak-dementia corr: 0.5749\n",
      "Subclasses present: ['PVM' 'Micro' 'Adaptive']\n",
      "Epoch: 14, dementia acc: 0.6079, braak corr: 0.5325, braak-dementia corr: 0.5791\n",
      "Subclasses present: ['PVM' 'Micro' 'Adaptive']\n",
      "Epoch: 15, dementia acc: 0.6338, braak corr: 0.5290, braak-dementia corr: 0.5716\n",
      "Subclasses present: ['PVM' 'Micro' 'Adaptive']\n",
      "Epoch: 16, dementia acc: 0.6261, braak corr: 0.5420, braak-dementia corr: 0.5801\n",
      "Subclasses present: ['PVM' 'Micro' 'Adaptive']\n",
      "Epoch: 17, dementia acc: 0.6270, braak corr: 0.5428, braak-dementia corr: 0.6110\n",
      "Subclasses present: ['PVM' 'Micro' 'Adaptive']\n",
      "Epoch: 18, dementia acc: 0.6396, braak corr: 0.5398, braak-dementia corr: 0.6110\n",
      "Subclasses present: ['PVM' 'Micro' 'Adaptive']\n",
      "Epoch: 19, dementia acc: 0.6048, braak corr: 0.5507, braak-dementia corr: 0.6194\n",
      "Model not saved!\n"
     ]
    }
   ],
   "source": [
    "# where PyTorch Lightning model outputs are saved\n",
    "base_path = \"lightning_logs\"\n",
    "\n",
    "# min_cell_count only used when measuring Braak and Dementia accuracy, does not affect saved model\n",
    "min_cell_count = 5 \n",
    "\n",
    "# the 20 splits be saved in different lightning_logs/version_XX directories\n",
    "# version_nums indicate which versions to look at\n",
    "version_nums = np.arange(20, 40)\n",
    "\n",
    "# can average the results over ultiple epochs if desired\n",
    "n_epochs_to_avg = 1\n",
    "\n",
    "model_save_fn = \"test.h5ad\"\n",
    "\n",
    "for epoch in range(21 - n_epochs_to_avg):\n",
    "\n",
    "    fns = []\n",
    "    for n in range(n_epochs_to_avg):\n",
    "        fns_temp = []\n",
    "        for v in version_nums:\n",
    "            fns_temp.append(os.path.join(base_path, f\"version_{v}/test_results_ep{epoch + n}.pkl\"))\n",
    "        fns.append(fns_temp)\n",
    "\n",
    "    adata = mr.create_data(fns, model_average=True)\n",
    "    # when measuring BRAAK accuracy, select donors with at least min_cell_count cells, and BRAAK value must exist (>= 0)\n",
    "    idx = (adata.uns[\"donor_BRAAK_AD\"] > -1) * (adata.uns[\"donor_cell_count\"] >= min_cell_count)\n",
    "    braak_acc, _ = stats.pearsonr(adata.uns[\"donor_pred_BRAAK_AD\"][idx], adata.uns[\"donor_BRAAK_AD\"][idx])\n",
    "    \n",
    "     # when measuring Dementia accuracy, select donors with at least min_cell_count cells, and Dementia value must exist (>= 0)\n",
    "    idx = (adata.uns[\"donor_Dementia\"] > -1) * (adata.uns[\"donor_cell_count\"] >= min_cell_count)\n",
    "    dementia_acc = classification_score(adata.uns[\"donor_pred_Dementia\"], adata.uns[\"donor_Dementia\"])\n",
    "\n",
    "    bd_corr, _ = stats.pearsonr(adata.uns[\"donor_pred_Dementia\"], adata.uns[\"donor_pred_BRAAK_AD\"])\n",
    "\n",
    "    print(f\"Epoch: {epoch}, dementia acc: {dementia_acc:1.4f}, braak corr: {braak_acc:1.4f}, braak-dementia corr: {bd_corr:1.4f}\")\n",
    "\n",
    "if save_data:\n",
    "    adata.write(model_save_fn)\n",
    "    print(f\"{model_save_fn} saved\")\n",
    "else:\n",
    "    print(\"Model not saved!\")"
   ]
  }
 ],
 "metadata": {
  "kernelspec": {
   "display_name": "scanpy",
   "language": "python",
   "name": "scanpy"
  },
  "language_info": {
   "codemirror_mode": {
    "name": "ipython",
    "version": 3
   },
   "file_extension": ".py",
   "mimetype": "text/x-python",
   "name": "python",
   "nbconvert_exporter": "python",
   "pygments_lexer": "ipython3",
   "version": "3.12.3"
  }
 },
 "nbformat": 4,
 "nbformat_minor": 4
}
